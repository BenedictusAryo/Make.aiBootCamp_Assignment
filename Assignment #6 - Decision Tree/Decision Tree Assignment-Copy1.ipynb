{
 "cells": [
  {
   "cell_type": "markdown",
   "metadata": {
    "colab_type": "text",
    "id": "IWJBbQi0Ijw5"
   },
   "source": [
    "# Decision Tree Assignment"
   ]
  },
  {
   "cell_type": "markdown",
   "metadata": {
    "colab_type": "text",
    "id": "dgsq1bs6Ijw9"
   },
   "source": [
    "** Question 1.**"
   ]
  },
  {
   "cell_type": "markdown",
   "metadata": {
    "colab_type": "text",
    "id": "91Zx6vaXIjw_"
   },
   "source": [
    "Dilihat dari gambar dibawah, manakah dari **temperature** dan **moisture content** yang memiliki impuritas lebih rendah? Jelaskan secara singkat!\n",
    "\n",
    "<img src=\"Dataset/Entropy.PNG\">"
   ]
  },
  {
   "cell_type": "markdown",
   "metadata": {
    "colab_type": "text",
    "id": "GBzuFt51IjxB"
   },
   "source": [
    "Bobot: 30"
   ]
  },
  {
   "cell_type": "markdown",
   "metadata": {
    "colab_type": "text",
    "id": "BZocyZBeIjxD"
   },
   "source": [
    "**Question 2.**\n",
    "\n",
    "Coba lakukan eksperimen dengan hyperparameter **max_depth** dan **min_samples_split** hingga mendapatkan hasil f1_score minimum [0.9, 0.7, 0.5]"
   ]
  },
  {
   "cell_type": "code",
   "execution_count": 0,
   "metadata": {
    "colab": {
     "autoexec": {
      "startup": false,
      "wait_interval": 0
     }
    },
    "colab_type": "code",
    "collapsed": true,
    "id": "9DM4W0wSIjxG"
   },
   "outputs": [],
   "source": [
    "################### DO NOT CHANGE ANYTHING ######################################################################################\n",
    "import pandas as pd\n",
    "import numpy as np\n",
    "from sklearn import tree, datasets\n",
    "from sklearn.metrics import f1_score\n",
    "from sklearn.model_selection import train_test_split\n",
    "import matplotlib.pyplot as plt\n",
    "%matplotlib inline\n",
    "\n",
    "iris = datasets.load_iris()\n",
    "X = iris.data[:, :2]\n",
    "y = iris.target\n",
    "\n",
    "# Train test split\n",
    "X_train, X_test, y_train, y_test = train_test_split(X, y, test_size=0.25, random_state=0)"
   ]
  },
  {
   "cell_type": "code",
   "execution_count": 0,
   "metadata": {
    "colab": {
     "autoexec": {
      "startup": false,
      "wait_interval": 0
     }
    },
    "colab_type": "code",
    "collapsed": true,
    "id": "4XJ3lniOIjxQ"
   },
   "outputs": [],
   "source": [
    "################### ISI DISINI ##################################################################################################\n",
    "max_depth = None                # Isi disini\n",
    "min_samples_split =  4            # Isi disini"
   ]
  },
  {
   "cell_type": "code",
   "execution_count": 0,
   "metadata": {
    "colab": {
     "autoexec": {
      "startup": false,
      "wait_interval": 0
     }
    },
    "colab_type": "code",
    "collapsed": true,
    "id": "eJDvCK0tIjxX"
   },
   "outputs": [],
   "source": [
    "################### DO NOT CHANGE ANYTHING ######################################################################################\n",
    "\n",
    "dtree = tree.DecisionTreeClassifier(max_depth=max_depth, min_samples_split=min_samples_split).fit(X_train, y_train)\n",
    "y_pred = dtree.predict(X_test)\n",
    "\n",
    "print('f1_score for class 0, 1, 2 is:')\n",
    "print(f1_score(y_test, y_pred, average=None))"
   ]
  },
  {
   "cell_type": "markdown",
   "metadata": {
    "colab_type": "text",
    "id": "f8QA-zICIjxh"
   },
   "source": [
    "Bobot: 40"
   ]
  },
  {
   "cell_type": "markdown",
   "metadata": {
    "colab_type": "text",
    "id": "D7hEZN9dIjxj"
   },
   "source": [
    "**Question 3.**\n",
    "\n",
    "Dengan menggunakan hasil model sebelumnya, tampilkan lah grafik decision tree seperti contoh dibawah:\n",
    "<img src=\"Dataset/DT_graph.png\">\n",
    "\n",
    "Hint: Manfaatkan dokumentasi mengenai graphviz pada link berikut:\n",
    "http://scikit-learn.org/stable/modules/tree.html#classification"
   ]
  },
  {
   "cell_type": "code",
   "execution_count": 0,
   "metadata": {
    "colab": {
     "autoexec": {
      "startup": false,
      "wait_interval": 0
     }
    },
    "colab_type": "code",
    "collapsed": true,
    "id": "c0vPEtccIjxl"
   },
   "outputs": [],
   "source": [
    "import graphviz\n",
    "\n",
    "# Tuliskan kode anda disini\n",
    "#\n",
    "#\n",
    "#\n",
    "#\n",
    "#"
   ]
  },
  {
   "cell_type": "markdown",
   "metadata": {
    "colab_type": "text",
    "id": "gg5Hkk5fJUkI"
   },
   "source": [
    "Bobot: 30"
   ]
  }
 ],
 "metadata": {
  "colab": {
   "collapsed_sections": [],
   "default_view": {},
   "name": "Decision Tree Assignment.ipynb",
   "provenance": [],
   "version": "0.3.2",
   "views": {}
  },
  "kernelspec": {
   "display_name": "Python 3",
   "language": "python",
   "name": "python3"
  },
  "language_info": {
   "codemirror_mode": {
    "name": "ipython",
    "version": 3
   },
   "file_extension": ".py",
   "mimetype": "text/x-python",
   "name": "python",
   "nbconvert_exporter": "python",
   "pygments_lexer": "ipython3",
   "version": "3.6.3"
  }
 },
 "nbformat": 4,
 "nbformat_minor": 1
}
