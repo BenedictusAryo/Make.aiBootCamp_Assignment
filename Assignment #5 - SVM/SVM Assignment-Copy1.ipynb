{
 "cells": [
  {
   "cell_type": "markdown",
   "metadata": {
    "colab_type": "text",
    "id": "hQKXxrnbB688"
   },
   "source": [
    "# SVM Assignment"
   ]
  },
  {
   "cell_type": "markdown",
   "metadata": {
    "colab_type": "text",
    "id": "ISmnlr-oB68-"
   },
   "source": [
    "**Question 1.**\n",
    "\n",
    "Apakah yang akan terjadi apabila nilai hyperparameter **C** yang dipergunakan semakin diperbesar?\n",
    "\n",
    "    a. Decision boundary semakin halus\n",
    "    b. Semakin banyak data point training yang dipisahkan dengan benar\n",
    "\n",
    "Apakah yang akan terjadi apabila nilai hyperparameter $\\gamma$ yang dipergunakan semakin diperbesar?\n",
    "\n",
    "    a. Data point yang berada jauh dari decision boundary akan diikutkan dalam penentuan decision boundary\n",
    "    b. Data point yang berada jauh dari decision boundary tidak akan diikutkan dalam menentukan decision boundary\n"
   ]
  },
  {
   "cell_type": "markdown",
   "metadata": {
    "colab_type": "text",
    "id": "Bh-ToeuXB69A"
   },
   "source": [
    "Bobot:\n",
    "30\n"
   ]
  },
  {
   "cell_type": "markdown",
   "metadata": {
    "colab_type": "text",
    "id": "TRLGIiqgB69B"
   },
   "source": [
    "**Question 2.**"
   ]
  },
  {
   "cell_type": "markdown",
   "metadata": {
    "colab_type": "text",
    "id": "e5YaSUG2B69D"
   },
   "source": [
    "Sebutkan tiga contoh kernel yang dapat digunakan dalam model Support Vector machine berikut dengan keunggulannya:\n",
    "\n",
    "Hint: Pergunakan dokumentasi sklearn\n"
   ]
  },
  {
   "cell_type": "markdown",
   "metadata": {
    "colab_type": "text",
    "id": "ZhYcufO8B69E"
   },
   "source": [
    "Bobot:\n",
    "30"
   ]
  },
  {
   "cell_type": "markdown",
   "metadata": {
    "colab_type": "text",
    "id": "_jAdNgyuB69F"
   },
   "source": [
    "** Question 3.**\n",
    "\n",
    "Coba lakukan eksperimen dengan hyperparameter **C** dan $\\gamma$ hingga mendapatkan hasil f1_score minimum [0.8, 0.65, 0.5]"
   ]
  },
  {
   "cell_type": "code",
   "execution_count": 1,
   "metadata": {
    "colab": {
     "autoexec": {
      "startup": false,
      "wait_interval": 0
     }
    },
    "colab_type": "code",
    "collapsed": true,
    "id": "NHL5ccaDB69H"
   },
   "outputs": [],
   "source": [
    "################### DO NOT CHANGE ANYTHING ######################################################################################\n",
    "import pandas as pd\n",
    "import numpy as np\n",
    "from sklearn import svm, datasets\n",
    "from sklearn.metrics import f1_score\n",
    "from sklearn.model_selection import train_test_split\n",
    "import matplotlib.pyplot as plt\n",
    "%matplotlib inline\n",
    "\n",
    "iris = datasets.load_iris()\n",
    "X = iris.data[:, :2]\n",
    "y = iris.target\n",
    "\n",
    "# Train test split\n",
    "X_train, X_test, y_train, y_test = train_test_split(X, y, test_size=0.25, random_state=0)"
   ]
  },
  {
   "cell_type": "code",
   "execution_count": 2,
   "metadata": {
    "colab": {
     "autoexec": {
      "startup": false,
      "wait_interval": 0
     }
    },
    "colab_type": "code",
    "collapsed": true,
    "id": "u_saVxw5B69O"
   },
   "outputs": [],
   "source": [
    "################### ISI DISINI ##################################################################################################\n",
    "kernel = 'linear'        # Isi disini\n",
    "C = 1              # Isi disini\n",
    "gamma = 'auto'          # Isi disini"
   ]
  },
  {
   "cell_type": "code",
   "execution_count": 3,
   "metadata": {
    "colab": {
     "autoexec": {
      "startup": false,
      "wait_interval": 0
     }
    },
    "colab_type": "code",
    "id": "lcEbxd8VB69T"
   },
   "outputs": [
    {
     "name": "stdout",
     "output_type": "stream",
     "text": [
      "f1_score for class 0, 1, 2 is:\n",
      "[1.         0.70967742 0.52631579]\n"
     ]
    }
   ],
   "source": [
    "################### DO NOT CHANGE ANYTHING ######################################################################################\n",
    "\n",
    "svc = svm.SVC(kernel=kernel, C=C, gamma=gamma, decision_function_shape='ovr').fit(X_train, y_train)\n",
    "y_pred = svc.predict(X_test)\n",
    "\n",
    "print('f1_score for class 0, 1, 2 is:')\n",
    "print(f1_score(y_test, y_pred, average=None))"
   ]
  },
  {
   "cell_type": "markdown",
   "metadata": {
    "colab_type": "text",
    "id": "Y5sXlw8nB69X"
   },
   "source": [
    "Bobot:\n",
    "50"
   ]
  },
  {
   "cell_type": "code",
   "execution_count": 0,
   "metadata": {
    "colab": {
     "autoexec": {
      "startup": false,
      "wait_interval": 0
     }
    },
    "colab_type": "code",
    "collapsed": true,
    "id": "RYoM5PNiB69Y"
   },
   "outputs": [],
   "source": []
  }
 ],
 "metadata": {
  "colab": {
   "collapsed_sections": [],
   "default_view": {},
   "name": "SVM Assignment.ipynb",
   "provenance": [],
   "version": "0.3.2",
   "views": {}
  },
  "kernelspec": {
   "display_name": "Python 3",
   "language": "python",
   "name": "python3"
  },
  "language_info": {
   "codemirror_mode": {
    "name": "ipython",
    "version": 3
   },
   "file_extension": ".py",
   "mimetype": "text/x-python",
   "name": "python",
   "nbconvert_exporter": "python",
   "pygments_lexer": "ipython3",
   "version": "3.6.3"
  }
 },
 "nbformat": 4,
 "nbformat_minor": 1
}
