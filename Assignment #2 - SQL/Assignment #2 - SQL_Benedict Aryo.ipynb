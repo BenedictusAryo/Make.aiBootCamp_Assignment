{
 "cells": [
  {
   "cell_type": "markdown",
   "metadata": {},
   "source": [
    "## Soal 1 (Bobot: 30)"
   ]
  },
  {
   "cell_type": "markdown",
   "metadata": {},
   "source": [
    "Buatlah sebuah sql query untuk membuat sebuah tabel bernama MENU yang berisi informasi tentang NAMA, JENIS (makanan atau minuman), dan HARGA."
   ]
  },
  {
   "cell_type": "markdown",
   "metadata": {},
   "source": [
    "import pymysql<br>\n",
    "\n",
    "<font color=green>#open database connection</font><br>\n",
    "db = pymysql.connect(\"localhost\", \"testuser\", \"test123\", \"TESTDB\")<br>\n",
    "\n",
    "<font color=green>#prepare a cursor object using cursor() method</font><br>\n",
    "cursor = db.cursor()<br>\n",
    "\n",
    "<font color=green>#drop table if it already exist using execute() method</font><br>\n",
    "cursor.execute(\"DROP TABLE IF EXIST MENU\")<br>\n",
    "\n",
    "<font color=green>#your sql query</font><br>\n",
    "<font color=red>sql = \".....\"</font><br>\n",
    "\n",
    "<font color=green>#execute SQL query using execute() method</font><br>\n",
    "cursor.execute(sql)<br>\n",
    "\n",
    "<font color=green>#disconnect from server</font><br>\n",
    "db.close()<br>"
   ]
  },
  {
   "cell_type": "markdown",
   "metadata": {},
   "source": [
    "<font color=red>Tulis jawaban anda di bawah!</font>\n"
   ]
  },
  {
   "cell_type": "markdown",
   "metadata": {},
   "source": [
    "### 1. Jawab"
   ]
  },
  {
   "cell_type": "code",
   "execution_count": 1,
   "metadata": {},
   "outputs": [
    {
     "data": {
      "text/plain": [
       "(('NAMA', 'char(20)', 'YES', '', None, ''),\n",
       " ('JENIS', 'char(20)', 'YES', '', None, ''),\n",
       " ('HARGA', 'int(11)', 'YES', '', None, ''))"
      ]
     },
     "execution_count": 1,
     "metadata": {},
     "output_type": "execute_result"
    }
   ],
   "source": [
    "import pymysql\n",
    "db=pymysql.connect(host='127.0.0.1',user=\"root\",db='testdb')\n",
    "cursor=db.cursor()\n",
    "cursor.execute(\"drop table if exists menu\")\n",
    "sql=\"\"\"\n",
    "create table testdb.menu(\n",
    "NAMA char(20),\n",
    "JENIS char(20),\n",
    "HARGA int)\n",
    "\"\"\"\n",
    "cursor.execute(sql)\n",
    "cursor.execute(\"describe testdb.menu\")\n",
    "cursor.fetchall()"
   ]
  },
  {
   "cell_type": "markdown",
   "metadata": {},
   "source": [
    "## Soal 2 & 3"
   ]
  },
  {
   "cell_type": "markdown",
   "metadata": {},
   "source": [
    "<img src=\"menu.png\">\n",
    "<h3><center>Tabel MENU</center></h3>"
   ]
  },
  {
   "cell_type": "markdown",
   "metadata": {},
   "source": [
    "Buatlah sql query untuk melakukan select data dari tabel MENU yang jenisnya merupakan makanan. (Bobot: 35)"
   ]
  },
  {
   "cell_type": "markdown",
   "metadata": {},
   "source": [
    "### insert value row pada tabel dulu :"
   ]
  },
  {
   "cell_type": "code",
   "execution_count": 2,
   "metadata": {},
   "outputs": [
    {
     "data": {
      "text/plain": [
       "(('Nasi Goreng', 'Makanan', 14000),\n",
       " ('Jus Jeruk', 'Minuman', 8000),\n",
       " ('Nasi Liwet', 'Makanan', 14000),\n",
       " ('Jus Alpukat', 'Minuman', 15000),\n",
       " ('Fanta', 'Minuman', 7000),\n",
       " ('Nasi Kebuli', 'Makanan', 20000),\n",
       " ('Martabak', 'Makanan', 240000))"
      ]
     },
     "execution_count": 2,
     "metadata": {},
     "output_type": "execute_result"
    }
   ],
   "source": [
    "cursor.execute(\"\"\"\n",
    "insert into menu(NAMA,JENIS,HARGA)\n",
    "values('Nasi Goreng','Makanan','14000'),\n",
    "('Jus Jeruk', 'Minuman','8000'),\n",
    "('Nasi Liwet','Makanan','14000'),\n",
    "('Jus Alpukat','Minuman','15000'),\n",
    "('Fanta','Minuman','7000'),\n",
    "('Nasi Kebuli','Makanan','20000'),\n",
    "('Martabak','Makanan','240000')\n",
    "\"\"\")\n",
    "cursor.execute('select * from menu')\n",
    "cursor.fetchall()"
   ]
  },
  {
   "cell_type": "code",
   "execution_count": 15,
   "metadata": {},
   "outputs": [
    {
     "data": {
      "text/plain": [
       "[('NAMA', 'JENIS', 'HARGA'),\n",
       " (('Nasi Goreng', 'Makanan', 14000),\n",
       "  ('Jus Jeruk', 'Minuman', 8000),\n",
       "  ('Nasi Liwet', 'Makanan', 14000),\n",
       "  ('Jus Alpukat', 'Minuman', 15000),\n",
       "  ('Fanta', 'Minuman', 7000),\n",
       "  ('Nasi Kebuli', 'Makanan', 20000),\n",
       "  ('Martabak', 'Makanan', 240000))]"
      ]
     },
     "execution_count": 15,
     "metadata": {},
     "output_type": "execute_result"
    }
   ],
   "source": [
    "cursor.execute('select * from menu')\n",
    "cursor.description\n",
    "header = tuple([x[0] for x in cursor.description])\n",
    "[header]+[cursor.fetchall()]"
   ]
  },
  {
   "cell_type": "markdown",
   "metadata": {},
   "source": [
    "<font color=red>Tulis jawaban anda di bawah!</font>\n"
   ]
  },
  {
   "cell_type": "markdown",
   "metadata": {},
   "source": [
    "### 2.Jawab"
   ]
  },
  {
   "cell_type": "code",
   "execution_count": 3,
   "metadata": {},
   "outputs": [
    {
     "data": {
      "text/plain": [
       "(('Nasi Goreng', 'Makanan', 14000),\n",
       " ('Nasi Liwet', 'Makanan', 14000),\n",
       " ('Nasi Kebuli', 'Makanan', 20000),\n",
       " ('Martabak', 'Makanan', 240000))"
      ]
     },
     "execution_count": 3,
     "metadata": {},
     "output_type": "execute_result"
    }
   ],
   "source": [
    "cursor.execute(\"select * from testdb.menu where JENIS='Makanan'\")\n",
    "cursor.fetchall()"
   ]
  },
  {
   "cell_type": "markdown",
   "metadata": {},
   "source": [
    "Buatlah sql query untuk melakukan select data dari tabel MENU yang merupakan variasi dari olahan nasi. (Bobot: 35)"
   ]
  },
  {
   "cell_type": "markdown",
   "metadata": {},
   "source": [
    "<font color=red>Tulis jawaban anda di bawah!</font>\n"
   ]
  },
  {
   "cell_type": "markdown",
   "metadata": {},
   "source": [
    "### 3. Jawab"
   ]
  },
  {
   "cell_type": "code",
   "execution_count": 4,
   "metadata": {},
   "outputs": [
    {
     "data": {
      "text/plain": [
       "(('Nasi Goreng', 'Makanan', 14000),\n",
       " ('Nasi Liwet', 'Makanan', 14000),\n",
       " ('Nasi Kebuli', 'Makanan', 20000))"
      ]
     },
     "execution_count": 4,
     "metadata": {},
     "output_type": "execute_result"
    }
   ],
   "source": [
    "cursor.execute(\"select * from testdb.menu where nama like 'Nasi%' \")\n",
    "cursor.fetchall()"
   ]
  },
  {
   "cell_type": "code",
   "execution_count": null,
   "metadata": {
    "collapsed": true
   },
   "outputs": [],
   "source": []
  }
 ],
 "metadata": {
  "kernelspec": {
   "display_name": "Python 3",
   "language": "python",
   "name": "python3"
  },
  "language_info": {
   "codemirror_mode": {
    "name": "ipython",
    "version": 3
   },
   "file_extension": ".py",
   "mimetype": "text/x-python",
   "name": "python",
   "nbconvert_exporter": "python",
   "pygments_lexer": "ipython3",
   "version": "3.6.3"
  }
 },
 "nbformat": 4,
 "nbformat_minor": 2
}
