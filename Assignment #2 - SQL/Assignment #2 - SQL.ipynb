{
 "cells": [
  {
   "cell_type": "markdown",
   "metadata": {},
   "source": [
    "## Soal 1 (Bobot: 30)"
   ]
  },
  {
   "cell_type": "markdown",
   "metadata": {},
   "source": [
    "Buatlah sebuah sql query untuk membuat sebuah tabel bernama MENU yang berisi informasi tentang NAMA, JENIS (makanan atau minuman), dan HARGA."
   ]
  },
  {
   "cell_type": "markdown",
   "metadata": {},
   "source": [
    "import pymysql<br>\n",
    "\n",
    "<font color=green>#open database connection</font><br>\n",
    "db = pymysql.connect(\"localhost\", \"testuser\", \"test123\", \"TESTDB\")<br>\n",
    "\n",
    "<font color=green>#prepare a cursor object using cursor() method</font><br>\n",
    "cursor = db.cursor()<br>\n",
    "\n",
    "<font color=green>#drop table if it already exist using execute() method</font><br>\n",
    "cursor.execute(\"DROP TABLE IF EXIST MENU\")<br>\n",
    "\n",
    "<font color=green>#your sql query</font><br>\n",
    "<font color=red>sql = \".....\"</font><br>\n",
    "\n",
    "<font color=green>#execute SQL query using execute() method</font><br>\n",
    "cursor.execute(sql)<br>\n",
    "\n",
    "<font color=green>#disconnect from server</font><br>\n",
    "db.close()<br>"
   ]
  },
  {
   "cell_type": "markdown",
   "metadata": {},
   "source": [
    "<font color=red>Tulis jawaban anda di bawah!</font>\n"
   ]
  },
  {
   "cell_type": "code",
   "execution_count": 2,
   "metadata": {},
   "outputs": [],
   "source": [
    "import pymysql"
   ]
  },
  {
   "cell_type": "markdown",
   "metadata": {},
   "source": [
    "## Soal 2 & 3"
   ]
  },
  {
   "cell_type": "markdown",
   "metadata": {},
   "source": [
    "<img src=\"menu.png\">\n",
    "<h3><center>Tabel MENU</center></h3>"
   ]
  },
  {
   "cell_type": "markdown",
   "metadata": {},
   "source": [
    "Buatlah sql query untuk melakukan select data dari tabel MENU yang jenisnya merupakan makanan. (Bobot: 35)"
   ]
  },
  {
   "cell_type": "markdown",
   "metadata": {},
   "source": [
    "<font color=red>Tulis jawaban anda di bawah!</font>\n"
   ]
  },
  {
   "cell_type": "markdown",
   "metadata": {},
   "source": [
    "..."
   ]
  },
  {
   "cell_type": "markdown",
   "metadata": {},
   "source": [
    "Buatlah sql query untuk melakukan select data dari tabel MENU yang merupakan variasi dari olahan nasi. (Bobot: 35)"
   ]
  },
  {
   "cell_type": "markdown",
   "metadata": {},
   "source": [
    "<font color=red>Tulis jawaban anda di bawah!</font>\n"
   ]
  },
  {
   "cell_type": "markdown",
   "metadata": {},
   "source": [
    " ..."
   ]
  },
  {
   "cell_type": "code",
   "execution_count": null,
   "metadata": {
    "collapsed": true
   },
   "outputs": [],
   "source": []
  }
 ],
 "metadata": {
  "kernelspec": {
   "display_name": "Python 3",
   "language": "python",
   "name": "python3"
  },
  "language_info": {
   "codemirror_mode": {
    "name": "ipython",
    "version": 3
   },
   "file_extension": ".py",
   "mimetype": "text/x-python",
   "name": "python",
   "nbconvert_exporter": "python",
   "pygments_lexer": "ipython3",
   "version": "3.6.4"
  }
 },
 "nbformat": 4,
 "nbformat_minor": 2
}
